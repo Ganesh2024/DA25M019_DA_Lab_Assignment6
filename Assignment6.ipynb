{
 "cells": [
  {
   "cell_type": "markdown",
   "id": "c0e2c6a1",
   "metadata": {},
   "source": [
    "# DA5401 Assignment 6 - Imputation via Regression for Missing Data\n",
    "## Credit Card Risk Assessment Project\n",
    "\n",
    "### Problem Statement\n",
    "We are working on a credit card risk assessment project with a dataset containing missing values in several important feature columns. We need to implement various strategies for handling missing data and evaluate their impact on classification performance.\n",
    "\n",
    "**Dataset:** UCI Credit Card Default Dataset  \n",
    "**Target Variable:** `default.payment.next.month`\n",
    "\n",
    "\n",
    "**Name:** `Mula Ganesh`\n",
    "\n",
    "**Roll No:** `DA25M019`"
   ]
  },
  {
   "cell_type": "code",
   "execution_count": 1,
   "id": "42c2899d",
   "metadata": {},
   "outputs": [],
   "source": [
    "# Import required libraries\n",
    "import numpy as np\n",
    "import pandas as pd\n",
    "import matplotlib.pyplot as plt\n",
    "import seaborn as sns\n",
    "from sklearn.model_selection import train_test_split\n",
    "from sklearn.preprocessing import StandardScaler\n",
    "from sklearn.linear_model import LinearRegression, LogisticRegression\n",
    "from sklearn.ensemble import RandomForestRegressor\n",
    "from sklearn.neighbors import KNeighborsRegressor\n",
    "from sklearn.metrics import classification_report, confusion_matrix\n",
    "import warnings\n",
    "warnings.filterwarnings('ignore')"
   ]
  },
  {
   "cell_type": "code",
   "execution_count": 2,
   "id": "9e622676",
   "metadata": {},
   "outputs": [],
   "source": [
    "import random\n",
    "# Set a random seed for reproducibility\n",
    "np.random.seed(42)"
   ]
  },
  {
   "cell_type": "markdown",
   "id": "beef2920",
   "metadata": {},
   "source": [
    "# Part A: Data Preprocessing and Imputation"
   ]
  },
  {
   "cell_type": "markdown",
   "id": "2196c4aa",
   "metadata": {},
   "source": [
    "### 1. Load and Prepare Data "
   ]
  },
  {
   "cell_type": "code",
   "execution_count": 3,
   "id": "177a56ea",
   "metadata": {},
   "outputs": [],
   "source": [
    "clean_data = pd.read_csv(\"./Data/UCI_Credit_Card.csv\")"
   ]
  },
  {
   "cell_type": "code",
   "execution_count": 4,
   "id": "a87aa705",
   "metadata": {},
   "outputs": [
    {
     "data": {
      "text/html": [
       "<div>\n",
       "<style scoped>\n",
       "    .dataframe tbody tr th:only-of-type {\n",
       "        vertical-align: middle;\n",
       "    }\n",
       "\n",
       "    .dataframe tbody tr th {\n",
       "        vertical-align: top;\n",
       "    }\n",
       "\n",
       "    .dataframe thead th {\n",
       "        text-align: right;\n",
       "    }\n",
       "</style>\n",
       "<table border=\"1\" class=\"dataframe\">\n",
       "  <thead>\n",
       "    <tr style=\"text-align: right;\">\n",
       "      <th></th>\n",
       "      <th>ID</th>\n",
       "      <th>LIMIT_BAL</th>\n",
       "      <th>SEX</th>\n",
       "      <th>EDUCATION</th>\n",
       "      <th>MARRIAGE</th>\n",
       "      <th>AGE</th>\n",
       "      <th>PAY_0</th>\n",
       "      <th>PAY_2</th>\n",
       "      <th>PAY_3</th>\n",
       "      <th>PAY_4</th>\n",
       "      <th>...</th>\n",
       "      <th>BILL_AMT4</th>\n",
       "      <th>BILL_AMT5</th>\n",
       "      <th>BILL_AMT6</th>\n",
       "      <th>PAY_AMT1</th>\n",
       "      <th>PAY_AMT2</th>\n",
       "      <th>PAY_AMT3</th>\n",
       "      <th>PAY_AMT4</th>\n",
       "      <th>PAY_AMT5</th>\n",
       "      <th>PAY_AMT6</th>\n",
       "      <th>default.payment.next.month</th>\n",
       "    </tr>\n",
       "  </thead>\n",
       "  <tbody>\n",
       "    <tr>\n",
       "      <th>0</th>\n",
       "      <td>1</td>\n",
       "      <td>20000.0</td>\n",
       "      <td>2</td>\n",
       "      <td>2</td>\n",
       "      <td>1</td>\n",
       "      <td>24</td>\n",
       "      <td>2</td>\n",
       "      <td>2</td>\n",
       "      <td>-1</td>\n",
       "      <td>-1</td>\n",
       "      <td>...</td>\n",
       "      <td>0.0</td>\n",
       "      <td>0.0</td>\n",
       "      <td>0.0</td>\n",
       "      <td>0.0</td>\n",
       "      <td>689.0</td>\n",
       "      <td>0.0</td>\n",
       "      <td>0.0</td>\n",
       "      <td>0.0</td>\n",
       "      <td>0.0</td>\n",
       "      <td>1</td>\n",
       "    </tr>\n",
       "    <tr>\n",
       "      <th>1</th>\n",
       "      <td>2</td>\n",
       "      <td>120000.0</td>\n",
       "      <td>2</td>\n",
       "      <td>2</td>\n",
       "      <td>2</td>\n",
       "      <td>26</td>\n",
       "      <td>-1</td>\n",
       "      <td>2</td>\n",
       "      <td>0</td>\n",
       "      <td>0</td>\n",
       "      <td>...</td>\n",
       "      <td>3272.0</td>\n",
       "      <td>3455.0</td>\n",
       "      <td>3261.0</td>\n",
       "      <td>0.0</td>\n",
       "      <td>1000.0</td>\n",
       "      <td>1000.0</td>\n",
       "      <td>1000.0</td>\n",
       "      <td>0.0</td>\n",
       "      <td>2000.0</td>\n",
       "      <td>1</td>\n",
       "    </tr>\n",
       "    <tr>\n",
       "      <th>2</th>\n",
       "      <td>3</td>\n",
       "      <td>90000.0</td>\n",
       "      <td>2</td>\n",
       "      <td>2</td>\n",
       "      <td>2</td>\n",
       "      <td>34</td>\n",
       "      <td>0</td>\n",
       "      <td>0</td>\n",
       "      <td>0</td>\n",
       "      <td>0</td>\n",
       "      <td>...</td>\n",
       "      <td>14331.0</td>\n",
       "      <td>14948.0</td>\n",
       "      <td>15549.0</td>\n",
       "      <td>1518.0</td>\n",
       "      <td>1500.0</td>\n",
       "      <td>1000.0</td>\n",
       "      <td>1000.0</td>\n",
       "      <td>1000.0</td>\n",
       "      <td>5000.0</td>\n",
       "      <td>0</td>\n",
       "    </tr>\n",
       "    <tr>\n",
       "      <th>3</th>\n",
       "      <td>4</td>\n",
       "      <td>50000.0</td>\n",
       "      <td>2</td>\n",
       "      <td>2</td>\n",
       "      <td>1</td>\n",
       "      <td>37</td>\n",
       "      <td>0</td>\n",
       "      <td>0</td>\n",
       "      <td>0</td>\n",
       "      <td>0</td>\n",
       "      <td>...</td>\n",
       "      <td>28314.0</td>\n",
       "      <td>28959.0</td>\n",
       "      <td>29547.0</td>\n",
       "      <td>2000.0</td>\n",
       "      <td>2019.0</td>\n",
       "      <td>1200.0</td>\n",
       "      <td>1100.0</td>\n",
       "      <td>1069.0</td>\n",
       "      <td>1000.0</td>\n",
       "      <td>0</td>\n",
       "    </tr>\n",
       "    <tr>\n",
       "      <th>4</th>\n",
       "      <td>5</td>\n",
       "      <td>50000.0</td>\n",
       "      <td>1</td>\n",
       "      <td>2</td>\n",
       "      <td>1</td>\n",
       "      <td>57</td>\n",
       "      <td>-1</td>\n",
       "      <td>0</td>\n",
       "      <td>-1</td>\n",
       "      <td>0</td>\n",
       "      <td>...</td>\n",
       "      <td>20940.0</td>\n",
       "      <td>19146.0</td>\n",
       "      <td>19131.0</td>\n",
       "      <td>2000.0</td>\n",
       "      <td>36681.0</td>\n",
       "      <td>10000.0</td>\n",
       "      <td>9000.0</td>\n",
       "      <td>689.0</td>\n",
       "      <td>679.0</td>\n",
       "      <td>0</td>\n",
       "    </tr>\n",
       "  </tbody>\n",
       "</table>\n",
       "<p>5 rows × 25 columns</p>\n",
       "</div>"
      ],
      "text/plain": [
       "   ID  LIMIT_BAL  SEX  EDUCATION  MARRIAGE  AGE  PAY_0  PAY_2  PAY_3  PAY_4  \\\n",
       "0   1    20000.0    2          2         1   24      2      2     -1     -1   \n",
       "1   2   120000.0    2          2         2   26     -1      2      0      0   \n",
       "2   3    90000.0    2          2         2   34      0      0      0      0   \n",
       "3   4    50000.0    2          2         1   37      0      0      0      0   \n",
       "4   5    50000.0    1          2         1   57     -1      0     -1      0   \n",
       "\n",
       "   ...  BILL_AMT4  BILL_AMT5  BILL_AMT6  PAY_AMT1  PAY_AMT2  PAY_AMT3  \\\n",
       "0  ...        0.0        0.0        0.0       0.0     689.0       0.0   \n",
       "1  ...     3272.0     3455.0     3261.0       0.0    1000.0    1000.0   \n",
       "2  ...    14331.0    14948.0    15549.0    1518.0    1500.0    1000.0   \n",
       "3  ...    28314.0    28959.0    29547.0    2000.0    2019.0    1200.0   \n",
       "4  ...    20940.0    19146.0    19131.0    2000.0   36681.0   10000.0   \n",
       "\n",
       "   PAY_AMT4  PAY_AMT5  PAY_AMT6  default.payment.next.month  \n",
       "0       0.0       0.0       0.0                           1  \n",
       "1    1000.0       0.0    2000.0                           1  \n",
       "2    1000.0    1000.0    5000.0                           0  \n",
       "3    1100.0    1069.0    1000.0                           0  \n",
       "4    9000.0     689.0     679.0                           0  \n",
       "\n",
       "[5 rows x 25 columns]"
      ]
     },
     "execution_count": 4,
     "metadata": {},
     "output_type": "execute_result"
    }
   ],
   "source": [
    "clean_data.head()"
   ]
  },
  {
   "cell_type": "markdown",
   "id": "b660f1f6",
   "metadata": {},
   "source": [
    "Entire Dataset contains Numerical data only"
   ]
  },
  {
   "cell_type": "code",
   "execution_count": 5,
   "id": "4730f22b",
   "metadata": {},
   "outputs": [
    {
     "name": "stdout",
     "output_type": "stream",
     "text": [
      "<class 'pandas.core.frame.DataFrame'>\n",
      "RangeIndex: 30000 entries, 0 to 29999\n",
      "Data columns (total 25 columns):\n",
      " #   Column                      Non-Null Count  Dtype  \n",
      "---  ------                      --------------  -----  \n",
      " 0   ID                          30000 non-null  int64  \n",
      " 1   LIMIT_BAL                   30000 non-null  float64\n",
      " 2   SEX                         30000 non-null  int64  \n",
      " 3   EDUCATION                   30000 non-null  int64  \n",
      " 4   MARRIAGE                    30000 non-null  int64  \n",
      " 5   AGE                         30000 non-null  int64  \n",
      " 6   PAY_0                       30000 non-null  int64  \n",
      " 7   PAY_2                       30000 non-null  int64  \n",
      " 8   PAY_3                       30000 non-null  int64  \n",
      " 9   PAY_4                       30000 non-null  int64  \n",
      " 10  PAY_5                       30000 non-null  int64  \n",
      " 11  PAY_6                       30000 non-null  int64  \n",
      " 12  BILL_AMT1                   30000 non-null  float64\n",
      " 13  BILL_AMT2                   30000 non-null  float64\n",
      " 14  BILL_AMT3                   30000 non-null  float64\n",
      " 15  BILL_AMT4                   30000 non-null  float64\n",
      " 16  BILL_AMT5                   30000 non-null  float64\n",
      " 17  BILL_AMT6                   30000 non-null  float64\n",
      " 18  PAY_AMT1                    30000 non-null  float64\n",
      " 19  PAY_AMT2                    30000 non-null  float64\n",
      " 20  PAY_AMT3                    30000 non-null  float64\n",
      " 21  PAY_AMT4                    30000 non-null  float64\n",
      " 22  PAY_AMT5                    30000 non-null  float64\n",
      " 23  PAY_AMT6                    30000 non-null  float64\n",
      " 24  default.payment.next.month  30000 non-null  int64  \n",
      "dtypes: float64(13), int64(12)\n",
      "memory usage: 5.7 MB\n"
     ]
    }
   ],
   "source": [
    "clean_data.info()"
   ]
  },
  {
   "cell_type": "code",
   "execution_count": 6,
   "id": "127e59ab",
   "metadata": {},
   "outputs": [
    {
     "data": {
      "text/plain": [
       "(30000, 25)"
      ]
     },
     "execution_count": 6,
     "metadata": {},
     "output_type": "execute_result"
    }
   ],
   "source": [
    "clean_data.shape"
   ]
  },
  {
   "cell_type": "code",
   "execution_count": 7,
   "id": "7602d9c5",
   "metadata": {},
   "outputs": [
    {
     "data": {
      "text/plain": [
       "ID                            0\n",
       "LIMIT_BAL                     0\n",
       "SEX                           0\n",
       "EDUCATION                     0\n",
       "MARRIAGE                      0\n",
       "AGE                           0\n",
       "PAY_0                         0\n",
       "PAY_2                         0\n",
       "PAY_3                         0\n",
       "PAY_4                         0\n",
       "PAY_5                         0\n",
       "PAY_6                         0\n",
       "BILL_AMT1                     0\n",
       "BILL_AMT2                     0\n",
       "BILL_AMT3                     0\n",
       "BILL_AMT4                     0\n",
       "BILL_AMT5                     0\n",
       "BILL_AMT6                     0\n",
       "PAY_AMT1                      0\n",
       "PAY_AMT2                      0\n",
       "PAY_AMT3                      0\n",
       "PAY_AMT4                      0\n",
       "PAY_AMT5                      0\n",
       "PAY_AMT6                      0\n",
       "default.payment.next.month    0\n",
       "dtype: int64"
      ]
     },
     "execution_count": 7,
     "metadata": {},
     "output_type": "execute_result"
    }
   ],
   "source": [
    "clean_data.isna().sum()"
   ]
  },
  {
   "cell_type": "markdown",
   "id": "f02488ea",
   "metadata": {},
   "source": [
    "From above result we can say that our dataset is clean as it does not contains any null values in dataset"
   ]
  },
  {
   "cell_type": "markdown",
   "id": "9df7b32e",
   "metadata": {},
   "source": [
    "We select columns `BILL_AMT2` and `PAY_AMT5` to introduce MAR (Missing At Random) values. The dependency column is `AGE`, meaning the missingness in these columns depends on the age of the customer.\n",
    "\n",
    "**MAR (Missing At Random)** means that the probability of a value being missing depends on observed data (other features), not on the missing value itself. In our case, older customers may be more or less likely to have missing bill/payment information."
   ]
  },
  {
   "cell_type": "code",
   "execution_count": 8,
   "id": "cf9c0192",
   "metadata": {},
   "outputs": [],
   "source": [
    "cols_for_MAR = ['BILL_AMT2', 'PAY_AMT5']\n",
    "dependency_col = 'AGE'"
   ]
  },
  {
   "cell_type": "code",
   "execution_count": 9,
   "id": "d58f6c3e",
   "metadata": {},
   "outputs": [],
   "source": [
    "def introduce_MAR(data, columns, dependency_col, missing_rate=0.075):\n",
    "    \"\"\"\n",
    "    Introduce Missing At Random (MAR) values based on a dependency column.\n",
    "    \n",
    "    Parameters:\n",
    "    -----------\n",
    "    data : DataFrame\n",
    "        Original dataset\n",
    "    columns : list\n",
    "        Columns to introduce missing values\n",
    "    dependency_col : str\n",
    "        Column on which missingness depends\n",
    "    missing_rate : float\n",
    "        Target proportion of missing values (default: 7.5%)\n",
    "    \n",
    "    Returns:\n",
    "    --------\n",
    "    DataFrame with MAR missing values\n",
    "    \"\"\"\n",
    "    df_mar = data.copy()\n",
    "    \n",
    "    for col in columns:\n",
    "        # Get dependency values\n",
    "        dependency_values = df_mar[dependency_col].values.reshape(-1, 1)\n",
    "        \n",
    "        # Normalize dependency values\n",
    "        scaler = StandardScaler()\n",
    "        dependency_scaled = scaler.fit_transform(dependency_values).flatten()\n",
    "        \n",
    "        # Convert to probabilities using sigmoid function\n",
    "        missing_probs = 1 / (1 + np.exp(-dependency_scaled))\n",
    "        missing_probs = (missing_probs - missing_probs.min()) / \\\n",
    "                       (missing_probs.max() - missing_probs.min()) * missing_rate * 2\n",
    "        \n",
    "        # Create missing mask\n",
    "        mask = np.random.random(len(df_mar)) < missing_probs\n",
    "        df_mar.loc[mask, col] = np.nan\n",
    "    \n",
    "    return df_mar"
   ]
  },
  {
   "cell_type": "code",
   "execution_count": 10,
   "id": "8788c5b4",
   "metadata": {},
   "outputs": [],
   "source": [
    "df_missing = introduce_MAR(clean_data, cols_for_MAR, dependency_col)"
   ]
  },
  {
   "cell_type": "code",
   "execution_count": 11,
   "id": "bf2bb064",
   "metadata": {},
   "outputs": [
    {
     "data": {
      "text/plain": [
       "BILL_AMT2    1756\n",
       "PAY_AMT5     1765\n",
       "dtype: int64"
      ]
     },
     "execution_count": 11,
     "metadata": {},
     "output_type": "execute_result"
    }
   ],
   "source": [
    "df_missing[cols_for_MAR].isnull().sum()"
   ]
  },
  {
   "cell_type": "code",
   "execution_count": 12,
   "id": "9dfafc27",
   "metadata": {},
   "outputs": [
    {
     "data": {
      "text/plain": [
       "np.int64(3371)"
      ]
     },
     "execution_count": 12,
     "metadata": {},
     "output_type": "execute_result"
    }
   ],
   "source": [
    "df_missing.isnull().any(axis=1).sum()"
   ]
  },
  {
   "cell_type": "code",
   "execution_count": 13,
   "id": "7bc6d58b",
   "metadata": {},
   "outputs": [
    {
     "data": {
      "text/plain": [
       "((30000, 24), (30000,))"
      ]
     },
     "execution_count": 13,
     "metadata": {},
     "output_type": "execute_result"
    }
   ],
   "source": [
    "# Separate features and target\n",
    "X = df_missing.drop(columns=['default.payment.next.month'])\n",
    "y = df_missing['default.payment.next.month']\n",
    "\n",
    "X.shape, y.shape"
   ]
  },
  {
   "cell_type": "code",
   "execution_count": 14,
   "id": "ac4fc095",
   "metadata": {},
   "outputs": [
    {
     "data": {
      "text/plain": [
       "default.payment.next.month\n",
       "0    23364\n",
       "1     6636\n",
       "Name: count, dtype: int64"
      ]
     },
     "execution_count": 14,
     "metadata": {},
     "output_type": "execute_result"
    }
   ],
   "source": [
    "# Target distribution\n",
    "y.value_counts()"
   ]
  },
  {
   "cell_type": "markdown",
   "id": "e61f5c62",
   "metadata": {},
   "source": [
    "### 2. Imputation Strategy 1: Median Imputation (Baseline)"
   ]
  },
  {
   "cell_type": "code",
   "execution_count": 15,
   "id": "27c003cf",
   "metadata": {},
   "outputs": [],
   "source": [
    "df_A = df_missing.copy()\n",
    "\n",
    "# Impute missing values with median\n",
    "df_A['BILL_AMT2'] = df_A['BILL_AMT2'].fillna(df_A['BILL_AMT2'].median())\n",
    "df_A['PAY_AMT5'] = df_A['PAY_AMT5'].fillna(df_A['PAY_AMT5'].median())"
   ]
  },
  {
   "cell_type": "code",
   "execution_count": 16,
   "id": "8f16e79d",
   "metadata": {},
   "outputs": [
    {
     "data": {
      "text/plain": [
       "np.int64(0)"
      ]
     },
     "execution_count": 16,
     "metadata": {},
     "output_type": "execute_result"
    }
   ],
   "source": [
    "# Verify no missing values\n",
    "df_A.isnull().any(axis=1).sum()"
   ]
  },
  {
   "cell_type": "markdown",
   "id": "34c3ade3",
   "metadata": {},
   "source": [
    "### Why is Median Imputation Preferred Over Mean Imputation?\n",
    "\n",
    "**Mean Imputation** replaces missing values with the average of available values.  \n",
    "**Median Imputation** replaces missing values with the middle value.\n",
    "\n",
    "**Why Median imputation is preferred:**\n",
    "\n",
    "1. **Robustness to Outliers:**\n",
    "   - Median is the middle value and is not affected by extreme values\n",
    "   - Mean is strongly influenced by outliers, which can distort the distribution\n",
    "   - In financial data, extreme values (very high bills, large payments) are common\n",
    "\n",
    "2. **Handling Skewed Distributions:**\n",
    "   - Financial features like bill amounts are often right-skewed\n",
    "   - Mean would pull the distribution toward higher values\n",
    "   - Median better represents the \"typical\" value in skewed data\n",
    "\n",
    "3. **Variance Preservation:**\n",
    "   - Median imputation reduces bias in skewed distributions\n",
    "   - Mean imputation can artificially reduce variance in the data\n",
    "   - Preserving variance is important for maintaining statistical properties\n",
    "\n",
    "4. **Practical Example:**\n",
    "   - If bill amounts are: [1000, 2000, 3000, 100000]\n",
    "   - Mean = 26,500 (not representative of typical bills)\n",
    "   - Median = 2,500 (better represents typical customer)\n",
    "\n",
    "5. **Impact on Model Performance:**\n",
    "   - Median imputation maintains the central tendency without bias from outliers\n",
    "   - Helps preserve relationships between variables\n",
    "   - Reduces the risk of introducing systematic errors in predictions"
   ]
  },
  {
   "cell_type": "markdown",
   "id": "b74fb080",
   "metadata": {},
   "source": [
    "### 3. Imputation Strategy 2: Regression Imputation (Linear)"
   ]
  },
  {
   "cell_type": "code",
   "execution_count": 17,
   "id": "b05a49c0",
   "metadata": {},
   "outputs": [],
   "source": [
    "df_B = df_missing.copy()\n",
    "\n",
    "# Select column for regression imputation\n",
    "target_col = 'BILL_AMT2'"
   ]
  },
  {
   "cell_type": "code",
   "execution_count": 18,
   "id": "6c580b24",
   "metadata": {},
   "outputs": [],
   "source": [
    "# Split into train (non-missing) and test (missing) sets\n",
    "train_mask = df_B[target_col].notnull()\n",
    "df_B_train = df_B[train_mask]\n",
    "df_B_test = df_B[~train_mask]"
   ]
  },
  {
   "cell_type": "code",
   "execution_count": 19,
   "id": "2bf67400",
   "metadata": {},
   "outputs": [],
   "source": [
    "y_B_train = df_B_train[target_col]\n",
    "X_B_train = df_B_train.drop(columns=[target_col, 'PAY_AMT5', 'default.payment.next.month'])\n",
    "\n",
    "# Prepare features for prediction\n",
    "X_B_test = df_B_test.drop(columns=[target_col, 'PAY_AMT5', 'default.payment.next.month'])"
   ]
  },
  {
   "cell_type": "code",
   "execution_count": 20,
   "id": "1e5881e2",
   "metadata": {},
   "outputs": [],
   "source": [
    "# Standardize features\n",
    "scaler_B = StandardScaler()\n",
    "X_B_train_scaled = scaler_B.fit_transform(X_B_train)\n",
    "X_B_test_scaled = scaler_B.transform(X_B_test)"
   ]
  },
  {
   "cell_type": "code",
   "execution_count": 21,
   "id": "826f1ca2",
   "metadata": {},
   "outputs": [],
   "source": [
    "# Train linear regression model\n",
    "lr_model = LinearRegression()\n",
    "lr_model.fit(X_B_train_scaled, y_B_train)\n",
    "\n",
    "# Predict missing values\n",
    "predictions = lr_model.predict(X_B_test_scaled)\n",
    "df_B.loc[df_B[target_col].isnull(), target_col] = predictions"
   ]
  },
  {
   "cell_type": "code",
   "execution_count": 22,
   "id": "3670f6a1",
   "metadata": {},
   "outputs": [],
   "source": [
    "# Impute PAY_AMT5 with median\n",
    "df_B['PAY_AMT5'] = df_B['PAY_AMT5'].fillna(df_B['PAY_AMT5'].median())"
   ]
  },
  {
   "cell_type": "code",
   "execution_count": 23,
   "id": "f603d4e3",
   "metadata": {},
   "outputs": [
    {
     "data": {
      "text/plain": [
       "(np.int64(0), np.int64(0))"
      ]
     },
     "execution_count": 23,
     "metadata": {},
     "output_type": "execute_result"
    }
   ],
   "source": [
    "# Verify no missing values\n",
    "df_B['BILL_AMT2'].isnull().sum(), df_B['PAY_AMT5'].isnull().sum()"
   ]
  },
  {
   "cell_type": "markdown",
   "id": "2fa5be6a",
   "metadata": {},
   "source": [
    "### Underlying Assumption: Missing At Random (MAR)\n",
    "\n",
    "The key assumption of regression imputation is that data is **Missing At Random (MAR)**.\n",
    "\n",
    "**MAR means:**\n",
    "- The probability of a value being missing depends on OTHER observed variables\n",
    "- The missingness does NOT depend on the missing value itself\n",
    "- The observed data contains sufficient information to predict missing values\n",
    "\n",
    "**Example in our context:**\n",
    "- If `BILL_AMT2` is missing more often for customers with:\n",
    "  - Low `LIMIT_BAL` (credit limit)\n",
    "  - Specific `AGE` ranges\n",
    "  - Particular payment histories (`PAY_0`, `PAY_2`, etc.)\n",
    "- Then the missingness can be explained by these observable variables\n",
    "- We can use the relationship between `BILL_AMT2` and other features to predict plausible values\n",
    "\n",
    "**Why regression imputation works under MAR:**\n",
    "1. **Preserves Relationships:** The observed data contains sufficient information to model missing values\n",
    "2. **Multivariate Patterns:** Uses relationships between multiple features, not just univariate statistics\n",
    "3. **Realistic Imputations:** Predicted values are consistent with patterns in complete cases\n",
    "4. **Better than Simple Methods:** Accounts for correlations between variables\n",
    "\n",
    "**Limitations:**\n",
    "- Assumes linear relationships between variables\n",
    "- May underestimate variance (all predictions are point estimates)\n",
    "- Requires sufficient complete cases for training\n",
    "- Can introduce bias if MAR assumption is violated\n"
   ]
  },
  {
   "cell_type": "markdown",
   "id": "71a49ab7",
   "metadata": {},
   "source": [
    "###  4. Imputation Strategy 3: Non-Linear Regression Imputation\n",
    "\n",
    "We use Random Forest Regressor as our non-linear model to capture complex relationships between features."
   ]
  },
  {
   "cell_type": "code",
   "execution_count": 24,
   "id": "cd2a62be",
   "metadata": {},
   "outputs": [],
   "source": [
    "df_C = df_missing.copy()\n",
    "\n",
    "# Use same column as Strategy 2\n",
    "target_col = 'BILL_AMT2'"
   ]
  },
  {
   "cell_type": "code",
   "execution_count": 25,
   "id": "f23e2514",
   "metadata": {},
   "outputs": [],
   "source": [
    "# Split into train and test\n",
    "train_mask = df_C[target_col].notnull()\n",
    "df_C_train = df_C[train_mask]\n",
    "df_C_test = df_C[~train_mask]"
   ]
  },
  {
   "cell_type": "code",
   "execution_count": 26,
   "id": "6fe1048b",
   "metadata": {},
   "outputs": [],
   "source": [
    "# Prepare data\n",
    "y_C_train = df_C_train[target_col]\n",
    "X_C_train = df_C_train.drop(columns=[target_col, 'PAY_AMT5', 'default.payment.next.month'])\n",
    "X_C_test = df_C_test.drop(columns=[target_col, 'PAY_AMT5', 'default.payment.next.month'])"
   ]
  },
  {
   "cell_type": "code",
   "execution_count": 27,
   "id": "8b8e3ebf",
   "metadata": {},
   "outputs": [],
   "source": [
    "# Standardize\n",
    "scaler_C = StandardScaler()\n",
    "X_C_train_scaled = scaler_C.fit_transform(X_C_train)\n",
    "X_C_test_scaled = scaler_C.transform(X_C_test)"
   ]
  },
  {
   "cell_type": "code",
   "execution_count": 28,
   "id": "4be8d2ad",
   "metadata": {},
   "outputs": [],
   "source": [
    "# Train Random Forest Regressor\n",
    "rf_model = RandomForestRegressor(n_estimators=100, max_depth=10, \n",
    "                                 random_state=42, n_jobs=-1)\n",
    "rf_model.fit(X_C_train_scaled, y_C_train)\n",
    "\n",
    "# Predict missing values\n",
    "predictions_rf = rf_model.predict(X_C_test_scaled)\n",
    "df_C.loc[df_C[target_col].isnull(), target_col] = predictions_rf"
   ]
  },
  {
   "cell_type": "code",
   "execution_count": 29,
   "id": "a887cf82",
   "metadata": {},
   "outputs": [
    {
     "data": {
      "text/html": [
       "<div>\n",
       "<style scoped>\n",
       "    .dataframe tbody tr th:only-of-type {\n",
       "        vertical-align: middle;\n",
       "    }\n",
       "\n",
       "    .dataframe tbody tr th {\n",
       "        vertical-align: top;\n",
       "    }\n",
       "\n",
       "    .dataframe thead th {\n",
       "        text-align: right;\n",
       "    }\n",
       "</style>\n",
       "<table border=\"1\" class=\"dataframe\">\n",
       "  <thead>\n",
       "    <tr style=\"text-align: right;\">\n",
       "      <th></th>\n",
       "      <th>feature</th>\n",
       "      <th>importance</th>\n",
       "    </tr>\n",
       "  </thead>\n",
       "  <tbody>\n",
       "    <tr>\n",
       "      <th>12</th>\n",
       "      <td>BILL_AMT1</td>\n",
       "      <td>0.706994</td>\n",
       "    </tr>\n",
       "    <tr>\n",
       "      <th>13</th>\n",
       "      <td>BILL_AMT3</td>\n",
       "      <td>0.248315</td>\n",
       "    </tr>\n",
       "    <tr>\n",
       "      <th>17</th>\n",
       "      <td>PAY_AMT1</td>\n",
       "      <td>0.026261</td>\n",
       "    </tr>\n",
       "    <tr>\n",
       "      <th>18</th>\n",
       "      <td>PAY_AMT2</td>\n",
       "      <td>0.006595</td>\n",
       "    </tr>\n",
       "    <tr>\n",
       "      <th>8</th>\n",
       "      <td>PAY_3</td>\n",
       "      <td>0.001824</td>\n",
       "    </tr>\n",
       "    <tr>\n",
       "      <th>7</th>\n",
       "      <td>PAY_2</td>\n",
       "      <td>0.001302</td>\n",
       "    </tr>\n",
       "    <tr>\n",
       "      <th>1</th>\n",
       "      <td>LIMIT_BAL</td>\n",
       "      <td>0.001109</td>\n",
       "    </tr>\n",
       "    <tr>\n",
       "      <th>19</th>\n",
       "      <td>PAY_AMT3</td>\n",
       "      <td>0.001043</td>\n",
       "    </tr>\n",
       "    <tr>\n",
       "      <th>21</th>\n",
       "      <td>PAY_AMT6</td>\n",
       "      <td>0.000895</td>\n",
       "    </tr>\n",
       "    <tr>\n",
       "      <th>14</th>\n",
       "      <td>BILL_AMT4</td>\n",
       "      <td>0.000882</td>\n",
       "    </tr>\n",
       "  </tbody>\n",
       "</table>\n",
       "</div>"
      ],
      "text/plain": [
       "      feature  importance\n",
       "12  BILL_AMT1    0.706994\n",
       "13  BILL_AMT3    0.248315\n",
       "17   PAY_AMT1    0.026261\n",
       "18   PAY_AMT2    0.006595\n",
       "8       PAY_3    0.001824\n",
       "7       PAY_2    0.001302\n",
       "1   LIMIT_BAL    0.001109\n",
       "19   PAY_AMT3    0.001043\n",
       "21   PAY_AMT6    0.000895\n",
       "14  BILL_AMT4    0.000882"
      ]
     },
     "execution_count": 29,
     "metadata": {},
     "output_type": "execute_result"
    }
   ],
   "source": [
    "# Get feature importances\n",
    "feature_importance = pd.DataFrame({\n",
    "    'feature': X_C_train.columns,\n",
    "    'importance': rf_model.feature_importances_\n",
    "}).sort_values('importance', ascending=False)\n",
    "\n",
    "feature_importance.head(10)"
   ]
  },
  {
   "cell_type": "code",
   "execution_count": 30,
   "id": "9f6f1dce",
   "metadata": {},
   "outputs": [],
   "source": [
    "# Impute PAY_AMT5 with median\n",
    "df_C['PAY_AMT5'] = df_C['PAY_AMT5'].fillna(df_C['PAY_AMT5'].median())"
   ]
  },
  {
   "cell_type": "code",
   "execution_count": 31,
   "id": "80361d93",
   "metadata": {},
   "outputs": [
    {
     "data": {
      "text/plain": [
       "(np.int64(0), np.int64(0))"
      ]
     },
     "execution_count": 31,
     "metadata": {},
     "output_type": "execute_result"
    }
   ],
   "source": [
    "# Verify no missing values\n",
    "df_C['BILL_AMT2'].isnull().sum(), df_C['PAY_AMT5'].isnull().sum()"
   ]
  },
  {
   "cell_type": "markdown",
   "id": "16e330bb",
   "metadata": {},
   "source": [
    "# PART B: MODEL TRAINING AND PERFORMANCE ASSESSMENT"
   ]
  },
  {
   "cell_type": "markdown",
   "id": "ae9b67f8",
   "metadata": {},
   "source": [
    "### 1. Data Split"
   ]
  },
  {
   "cell_type": "code",
   "execution_count": 32,
   "id": "08fe5d1a",
   "metadata": {},
   "outputs": [],
   "source": [
    "# Dataset A: Median Imputation\n",
    "X_A = df_A.drop(columns=['default.payment.next.month'])\n",
    "y_A = df_A['default.payment.next.month']\n",
    "X_train_A, X_test_A, y_train_A, y_test_A = train_test_split(\n",
    "    X_A, y_A, test_size=0.2, random_state=42, stratify=y_A)"
   ]
  },
  {
   "cell_type": "code",
   "execution_count": 33,
   "id": "49b7bbb5",
   "metadata": {},
   "outputs": [],
   "source": [
    "# Dataset B: Linear Regression Imputation\n",
    "X_B = df_B.drop(columns=['default.payment.next.month'])\n",
    "y_B = df_B['default.payment.next.month']\n",
    "X_train_B, X_test_B, y_train_B, y_test_B = train_test_split(\n",
    "    X_B, y_B, test_size=0.2, random_state=42, stratify=y_B)"
   ]
  },
  {
   "cell_type": "code",
   "execution_count": 34,
   "id": "da59b66d",
   "metadata": {},
   "outputs": [],
   "source": [
    "# Dataset C: Non-Linear Regression Imputation\n",
    "X_C = df_C.drop(columns=['default.payment.next.month'])\n",
    "y_C = df_C['default.payment.next.month']\n",
    "X_train_C, X_test_C, y_train_C, y_test_C = train_test_split(\n",
    "    X_C, y_C, test_size=0.2, random_state=42, stratify=y_C)"
   ]
  },
  {
   "cell_type": "code",
   "execution_count": 35,
   "id": "93a09503",
   "metadata": {},
   "outputs": [],
   "source": [
    "# Dataset D: Listwise Deletion\n",
    "df_D = df_missing.dropna()\n",
    "\n",
    "X_D = df_D.drop(columns=['default.payment.next.month'])\n",
    "y_D = df_D['default.payment.next.month']\n",
    "X_train_D, X_test_D, y_train_D, y_test_D = train_test_split(\n",
    "    X_D, y_D, test_size=0.2, random_state=42, stratify=y_D)"
   ]
  },
  {
   "cell_type": "code",
   "execution_count": 36,
   "id": "e32abe50",
   "metadata": {},
   "outputs": [
    {
     "name": "stdout",
     "output_type": "stream",
     "text": [
      "Original dataset: (30000, 25)\n",
      "Dataset D (after deletion): (26629, 25)\n",
      "Rows removed: 3371 (11.24%)\n"
     ]
    }
   ],
   "source": [
    "# Summary of data splits\n",
    "print(f\"Original dataset: {df_missing.shape}\")\n",
    "print(f\"Dataset D (after deletion): {df_D.shape}\")\n",
    "print(f\"Rows removed: {len(df_missing) - len(df_D)} ({((len(df_missing) - len(df_D))/len(df_missing)*100):.2f}%)\")"
   ]
  },
  {
   "cell_type": "markdown",
   "id": "24386104",
   "metadata": {},
   "source": [
    "### 2. Classifier Setup: Feature Standardization"
   ]
  },
  {
   "cell_type": "code",
   "execution_count": 37,
   "id": "1dbc5552",
   "metadata": {},
   "outputs": [],
   "source": [
    "def standardize_features(X_train, X_test):\n",
    "    \"\"\"Standardize features using StandardScaler\"\"\"\n",
    "    scaler = StandardScaler()\n",
    "    X_train_scaled = scaler.fit_transform(X_train)\n",
    "    X_test_scaled = scaler.transform(X_test)\n",
    "    return X_train_scaled, X_test_scaled"
   ]
  },
  {
   "cell_type": "code",
   "execution_count": 38,
   "id": "14fc0c4b",
   "metadata": {},
   "outputs": [],
   "source": [
    "# Standardize all datasets\n",
    "X_train_A_scaled, X_test_A_scaled = standardize_features(X_train_A, X_test_A)\n",
    "X_train_B_scaled, X_test_B_scaled = standardize_features(X_train_B, X_test_B)\n",
    "X_train_C_scaled, X_test_C_scaled = standardize_features(X_train_C, X_test_C)\n",
    "X_train_D_scaled, X_test_D_scaled = standardize_features(X_train_D, X_test_D)"
   ]
  },
  {
   "cell_type": "markdown",
   "id": "ce888bfd",
   "metadata": {},
   "source": [
    "### 3. Model Evaluation"
   ]
  },
  {
   "cell_type": "code",
   "execution_count": 39,
   "id": "82659303",
   "metadata": {},
   "outputs": [],
   "source": [
    "def train_and_evaluate(X_train, X_test, y_train, y_test, model_name):\n",
    "    \"\"\"Train Logistic Regression and evaluate performance\"\"\"\n",
    "    model = LogisticRegression(class_weight='balanced', max_iter=1000, random_state=42)\n",
    "    model.fit(X_train, y_train)\n",
    "    \n",
    "    y_pred = model.predict(X_test)\n",
    "    \n",
    "    print(f\"Classification Report for {model_name}:\")\n",
    "    print(classification_report(y_test, y_pred))\n",
    "    \n",
    "    report = classification_report(y_test, y_pred, output_dict=True)\n",
    "    \n",
    "    return y_pred, report"
   ]
  },
  {
   "cell_type": "code",
   "execution_count": 40,
   "id": "34b7d58c",
   "metadata": {},
   "outputs": [
    {
     "name": "stdout",
     "output_type": "stream",
     "text": [
      "Classification Report for Model A - Median Imputation:\n",
      "              precision    recall  f1-score   support\n",
      "\n",
      "           0       0.87      0.70      0.77      4673\n",
      "           1       0.37      0.62      0.46      1327\n",
      "\n",
      "    accuracy                           0.68      6000\n",
      "   macro avg       0.62      0.66      0.62      6000\n",
      "weighted avg       0.76      0.68      0.70      6000\n",
      "\n"
     ]
    }
   ],
   "source": [
    "# Model A: Median Imputation\n",
    "y_pred_A, report_A = train_and_evaluate(X_train_A_scaled, X_test_A_scaled, \n",
    "                                         y_train_A, y_test_A, \n",
    "                                         \"Model A - Median Imputation\")"
   ]
  },
  {
   "cell_type": "code",
   "execution_count": 41,
   "id": "245028d2",
   "metadata": {},
   "outputs": [
    {
     "name": "stdout",
     "output_type": "stream",
     "text": [
      "Classification Report for Model B - Linear Regression Imputation:\n",
      "              precision    recall  f1-score   support\n",
      "\n",
      "           0       0.87      0.70      0.77      4673\n",
      "           1       0.37      0.62      0.46      1327\n",
      "\n",
      "    accuracy                           0.68      6000\n",
      "   macro avg       0.62      0.66      0.62      6000\n",
      "weighted avg       0.76      0.68      0.70      6000\n",
      "\n"
     ]
    }
   ],
   "source": [
    "# Model B: Linear Regression Imputation\n",
    "y_pred_B, report_B = train_and_evaluate(X_train_B_scaled, X_test_B_scaled, \n",
    "                                         y_train_B, y_test_B, \n",
    "                                         \"Model B - Linear Regression Imputation\")"
   ]
  },
  {
   "cell_type": "code",
   "execution_count": 42,
   "id": "c49babb7",
   "metadata": {},
   "outputs": [
    {
     "name": "stdout",
     "output_type": "stream",
     "text": [
      "Classification Report for Model C - Non-Linear Regression Imputation:\n",
      "              precision    recall  f1-score   support\n",
      "\n",
      "           0       0.87      0.70      0.77      4673\n",
      "           1       0.37      0.62      0.46      1327\n",
      "\n",
      "    accuracy                           0.68      6000\n",
      "   macro avg       0.62      0.66      0.62      6000\n",
      "weighted avg       0.76      0.68      0.70      6000\n",
      "\n"
     ]
    }
   ],
   "source": [
    "# Model C: Non-Linear Regression Imputation\n",
    "y_pred_C, report_C = train_and_evaluate(X_train_C_scaled, X_test_C_scaled, \n",
    "                                         y_train_C, y_test_C, \n",
    "                                         \"Model C - Non-Linear Regression Imputation\")"
   ]
  },
  {
   "cell_type": "code",
   "execution_count": 43,
   "id": "63359cc5",
   "metadata": {},
   "outputs": [
    {
     "name": "stdout",
     "output_type": "stream",
     "text": [
      "Classification Report for Model D - Listwise Deletion:\n",
      "              precision    recall  f1-score   support\n",
      "\n",
      "           0       0.87      0.70      0.78      4149\n",
      "           1       0.38      0.64      0.48      1177\n",
      "\n",
      "    accuracy                           0.69      5326\n",
      "   macro avg       0.62      0.67      0.63      5326\n",
      "weighted avg       0.76      0.69      0.71      5326\n",
      "\n"
     ]
    }
   ],
   "source": [
    "# Model D: Listwise Deletion\n",
    "y_pred_D, report_D = train_and_evaluate(X_train_D_scaled, X_test_D_scaled, \n",
    "                                         y_train_D, y_test_D, \n",
    "                                         \"Model D - Listwise Deletion\")"
   ]
  },
  {
   "cell_type": "markdown",
   "id": "c06bca05",
   "metadata": {},
   "source": [
    "# PART C: COMPARATIVE ANALYSIS"
   ]
  },
  {
   "cell_type": "markdown",
   "id": "eace5db4",
   "metadata": {},
   "source": [
    "### 1. Results Comparison"
   ]
  },
  {
   "cell_type": "code",
   "execution_count": 44,
   "id": "2bdb233c",
   "metadata": {},
   "outputs": [
    {
     "data": {
      "text/html": [
       "<div>\n",
       "<style scoped>\n",
       "    .dataframe tbody tr th:only-of-type {\n",
       "        vertical-align: middle;\n",
       "    }\n",
       "\n",
       "    .dataframe tbody tr th {\n",
       "        vertical-align: top;\n",
       "    }\n",
       "\n",
       "    .dataframe thead th {\n",
       "        text-align: right;\n",
       "    }\n",
       "</style>\n",
       "<table border=\"1\" class=\"dataframe\">\n",
       "  <thead>\n",
       "    <tr style=\"text-align: right;\">\n",
       "      <th></th>\n",
       "      <th>Model</th>\n",
       "      <th>Accuracy</th>\n",
       "      <th>Precision_0</th>\n",
       "      <th>Recall_0</th>\n",
       "      <th>F1_0</th>\n",
       "      <th>Precision_1</th>\n",
       "      <th>Recall_1</th>\n",
       "      <th>F1_1</th>\n",
       "      <th>Macro_F1</th>\n",
       "      <th>Weighted_F1</th>\n",
       "      <th>Support_1</th>\n",
       "    </tr>\n",
       "  </thead>\n",
       "  <tbody>\n",
       "    <tr>\n",
       "      <th>0</th>\n",
       "      <td>A: Median Imputation</td>\n",
       "      <td>0.6812</td>\n",
       "      <td>0.8662</td>\n",
       "      <td>0.6985</td>\n",
       "      <td>0.7734</td>\n",
       "      <td>0.3687</td>\n",
       "      <td>0.6202</td>\n",
       "      <td>0.4625</td>\n",
       "      <td>0.6179</td>\n",
       "      <td>0.7046</td>\n",
       "      <td>1327</td>\n",
       "    </tr>\n",
       "    <tr>\n",
       "      <th>1</th>\n",
       "      <td>B: Linear Regression</td>\n",
       "      <td>0.6812</td>\n",
       "      <td>0.8662</td>\n",
       "      <td>0.6985</td>\n",
       "      <td>0.7734</td>\n",
       "      <td>0.3687</td>\n",
       "      <td>0.6202</td>\n",
       "      <td>0.4625</td>\n",
       "      <td>0.6179</td>\n",
       "      <td>0.7046</td>\n",
       "      <td>1327</td>\n",
       "    </tr>\n",
       "    <tr>\n",
       "      <th>2</th>\n",
       "      <td>C: Non-Linear Regression</td>\n",
       "      <td>0.6810</td>\n",
       "      <td>0.8664</td>\n",
       "      <td>0.6981</td>\n",
       "      <td>0.7732</td>\n",
       "      <td>0.3687</td>\n",
       "      <td>0.6209</td>\n",
       "      <td>0.4627</td>\n",
       "      <td>0.6179</td>\n",
       "      <td>0.7045</td>\n",
       "      <td>1327</td>\n",
       "    </tr>\n",
       "    <tr>\n",
       "      <th>3</th>\n",
       "      <td>D: Listwise Deletion</td>\n",
       "      <td>0.6853</td>\n",
       "      <td>0.8737</td>\n",
       "      <td>0.6968</td>\n",
       "      <td>0.7753</td>\n",
       "      <td>0.3763</td>\n",
       "      <td>0.6449</td>\n",
       "      <td>0.4753</td>\n",
       "      <td>0.6253</td>\n",
       "      <td>0.7090</td>\n",
       "      <td>1177</td>\n",
       "    </tr>\n",
       "  </tbody>\n",
       "</table>\n",
       "</div>"
      ],
      "text/plain": [
       "                      Model Accuracy Precision_0 Recall_0    F1_0 Precision_1  \\\n",
       "0      A: Median Imputation   0.6812      0.8662   0.6985  0.7734      0.3687   \n",
       "1      B: Linear Regression   0.6812      0.8662   0.6985  0.7734      0.3687   \n",
       "2  C: Non-Linear Regression   0.6810      0.8664   0.6981  0.7732      0.3687   \n",
       "3      D: Listwise Deletion   0.6853      0.8737   0.6968  0.7753      0.3763   \n",
       "\n",
       "  Recall_1    F1_1 Macro_F1 Weighted_F1  Support_1  \n",
       "0   0.6202  0.4625   0.6179      0.7046       1327  \n",
       "1   0.6202  0.4625   0.6179      0.7046       1327  \n",
       "2   0.6209  0.4627   0.6179      0.7045       1327  \n",
       "3   0.6449  0.4753   0.6253      0.7090       1177  "
      ]
     },
     "execution_count": 44,
     "metadata": {},
     "output_type": "execute_result"
    }
   ],
   "source": [
    "def create_comparison_table(reports, model_names):\n",
    "    \"\"\"Create comprehensive comparison table\"\"\"\n",
    "    comparison_data = []\n",
    "    \n",
    "    for model_name, report in zip(model_names, reports):\n",
    "        metrics_0 = report['0']\n",
    "        metrics_1 = report['1']\n",
    "        accuracy = report['accuracy']\n",
    "        macro_avg = report['macro avg']\n",
    "        weighted_avg = report['weighted avg']\n",
    "        \n",
    "        model_metrics = {\n",
    "            'Model': model_name,\n",
    "            'Accuracy': f\"{accuracy:.4f}\",\n",
    "            'Precision_0': f\"{metrics_0['precision']:.4f}\",\n",
    "            'Recall_0': f\"{metrics_0['recall']:.4f}\",\n",
    "            'F1_0': f\"{metrics_0['f1-score']:.4f}\",\n",
    "            'Precision_1': f\"{metrics_1['precision']:.4f}\",\n",
    "            'Recall_1': f\"{metrics_1['recall']:.4f}\",\n",
    "            'F1_1': f\"{metrics_1['f1-score']:.4f}\",\n",
    "            'Macro_F1': f\"{macro_avg['f1-score']:.4f}\",\n",
    "            'Weighted_F1': f\"{weighted_avg['f1-score']:.4f}\",\n",
    "            'Support_1': int(metrics_1['support'])\n",
    "        }\n",
    "        \n",
    "        comparison_data.append(model_metrics)\n",
    "    \n",
    "    return pd.DataFrame(comparison_data)\n",
    "\n",
    "reports = [report_A, report_B, report_C, report_D]\n",
    "model_names = ['A: Median Imputation', 'B: Linear Regression', \n",
    "               'C: Non-Linear Regression', 'D: Listwise Deletion']\n",
    "\n",
    "comparison_table = create_comparison_table(reports, model_names)\n",
    "comparison_table"
   ]
  },
  {
   "cell_type": "code",
   "execution_count": 45,
   "id": "005797f8",
   "metadata": {},
   "outputs": [
    {
     "data": {
      "image/png": "[encoded data removed]",
      "text/plain": [
       "<Figure size 1600x1200 with 4 Axes>"
      ]
     },
     "metadata": {},
     "output_type": "display_data"
    }
   ],
   "source": [
    "# Visualization of Results\n",
    "fig, axes = plt.subplots(2, 2, figsize=(16, 12))\n",
    "fig.suptitle('Model Performance Comparison Across Imputation Strategies', \n",
    "             fontsize=16, fontweight='bold')\n",
    "\n",
    "# Convert to numeric for plotting\n",
    "plot_df = comparison_table.copy()\n",
    "for col in plot_df.columns:\n",
    "    if col != 'Model':\n",
    "        plot_df[col] = pd.to_numeric(plot_df[col])\n",
    "\n",
    "# Plot 1: Overall Accuracy\n",
    "ax1 = axes[0, 0]\n",
    "bars1 = ax1.bar(range(len(model_names)), plot_df['Accuracy'], \n",
    "                color=['#3498db', '#2ecc71', '#f39c12', '#e74c3c'], alpha=0.7)\n",
    "ax1.set_xticks(range(len(model_names)))\n",
    "ax1.set_xticklabels(['Model A', 'Model B', 'Model C', 'Model D'], rotation=45)\n",
    "ax1.set_ylabel('Accuracy', fontweight='bold')\n",
    "ax1.set_title('Overall Accuracy', fontweight='bold')\n",
    "ax1.set_ylim(0, 1)\n",
    "ax1.grid(axis='y', alpha=0.3)\n",
    "for i, bar in enumerate(bars1):\n",
    "    height = bar.get_height()\n",
    "    ax1.text(bar.get_x() + bar.get_width()/2., height + 0.01,\n",
    "             f'{height:.4f}', ha='center', va='bottom', fontsize=9)\n",
    "\n",
    "# Plot 2: F1-Scores for Class 1 (Default)\n",
    "ax2 = axes[0, 1]\n",
    "bars2 = ax2.bar(range(len(model_names)), plot_df['F1_1'], \n",
    "                color=['#3498db', '#2ecc71', '#f39c12', '#e74c3c'], alpha=0.7)\n",
    "ax2.set_xticks(range(len(model_names)))\n",
    "ax2.set_xticklabels(['Model A', 'Model B', 'Model C', 'Model D'], rotation=45)\n",
    "ax2.set_ylabel('F1-Score', fontweight='bold')\n",
    "ax2.set_title('F1-Score for Class 1 (Default Prediction)', fontweight='bold')\n",
    "ax2.set_ylim(0, 1)\n",
    "ax2.grid(axis='y', alpha=0.3)\n",
    "for i, bar in enumerate(bars2):\n",
    "    height = bar.get_height()\n",
    "    ax2.text(bar.get_x() + bar.get_width()/2., height + 0.01,\n",
    "             f'{height:.4f}', ha='center', va='bottom', fontsize=9)\n",
    "\n",
    "# Plot 3: Precision and Recall for Class 1\n",
    "ax3 = axes[1, 0]\n",
    "x = np.arange(len(model_names))\n",
    "width = 0.35\n",
    "bars3a = ax3.bar(x - width/2, plot_df['Precision_1'], width, \n",
    "                 label='Precision', alpha=0.7, color='#3498db')\n",
    "bars3b = ax3.bar(x + width/2, plot_df['Recall_1'], width, \n",
    "                 label='Recall', alpha=0.7, color='#e74c3c')\n",
    "ax3.set_xticks(x)\n",
    "ax3.set_xticklabels(['Model A', 'Model B', 'Model C', 'Model D'], rotation=45)\n",
    "ax3.set_ylabel('Score', fontweight='bold')\n",
    "ax3.set_title('Precision vs Recall for Class 1', fontweight='bold')\n",
    "ax3.set_ylim(0, 1)\n",
    "ax3.legend()\n",
    "ax3.grid(axis='y', alpha=0.3)\n",
    "\n",
    "# Plot 4: Macro and Weighted F1\n",
    "ax4 = axes[1, 1]\n",
    "bars4a = ax4.bar(x - width/2, plot_df['Macro_F1'], width, \n",
    "                 label='Macro F1', alpha=0.7, color='#2ecc71')\n",
    "bars4b = ax4.bar(x + width/2, plot_df['Weighted_F1'], width, \n",
    "                 label='Weighted F1', alpha=0.7, color='#f39c12')\n",
    "ax4.set_xticks(x)\n",
    "ax4.set_xticklabels(['Model A', 'Model B', 'Model C', 'Model D'], rotation=45)\n",
    "ax4.set_ylabel('F1-Score', fontweight='bold')\n",
    "ax4.set_title('Macro vs Weighted F1-Score', fontweight='bold')\n",
    "ax4.set_ylim(0, 1)\n",
    "ax4.legend()\n",
    "ax4.grid(axis='y', alpha=0.3)\n",
    "\n",
    "plt.tight_layout()\n",
    "plt.show()"
   ]
  },
  {
   "cell_type": "markdown",
   "id": "56883734",
   "metadata": {},
   "source": [
    "### 2. Efficacy Discussion"
   ]
  },
  {
   "cell_type": "markdown",
   "id": "62a80a93",
   "metadata": {},
   "source": [
    "### Trade-off Between Listwise Deletion and Imputation\n",
    "\n",
    "#### Why Listwise Deletion Might Perform Well:\n",
    "\n",
    "**1. Data Quality Preservation:**\n",
    "- Maintains original data relationships without introducing artificial values\n",
    "- No imputation noise or bias added to the dataset\n",
    "- Preserves the \"true\" distribution of complete cases\n",
    "\n",
    "**2. MCAR Assumption:**\n",
    "- If data is Missing Completely At Random, deletion is unbiased\n",
    "- Random patterns in missingness favor deletion approaches\n",
    "\n",
    "**3. Sufficient Sample Size:**\n",
    "- Original dataset: 30,000 samples\n",
    "- After deletion: ~27,000 samples (only 10% loss)\n",
    "- Large datasets can tolerate moderate data loss\n",
    "- Statistical power remains high even after deletion\n",
    "\n",
    "#### Why Imputed Models Might Perform Worse:\n",
    "\n",
    "**1. Imputation Noise:**\n",
    "- Median imputation ignores relationships between variables\n",
    "- Adds identical values for all missing cases\n",
    "- Artificially reduces variance\n",
    "\n",
    "**2. Regression Imputation Limitations:**\n",
    "- May not capture complex relationships\n",
    "- Point estimates don't account for uncertainty\n",
    "- Can create unrealistic value combinations\n",
    "\n",
    "**3. The Key Insight:**\n",
    "Machine learning models need **high-quality data** to learn meaningful patterns. Sometimes it's better to have less data that's completely accurate than more data with artificial values.\n"
   ]
  },
  {
   "cell_type": "code",
   "execution_count": 46,
   "id": "5d2a1835",
   "metadata": {},
   "outputs": [
    {
     "name": "stdout",
     "output_type": "stream",
     "text": [
      "Impact Analysis of Listwise Deletion:\n",
      "Original samples: 30000\n",
      "After deletion: 26629\n",
      "Samples lost: 3371 (11.24%)\n",
      "\n",
      "Default cases in original: 6636\n",
      "Default cases after deletion: 5887\n",
      "Default cases lost: 749\n"
     ]
    }
   ],
   "source": [
    "# Analyze the impact of data loss in Model D\n",
    "print(\"Impact Analysis of Listwise Deletion:\")\n",
    "print(f\"Original samples: {len(df_missing)}\")\n",
    "print(f\"After deletion: {len(df_D)}\")\n",
    "print(f\"Samples lost: {len(df_missing) - len(df_D)} ({((len(df_missing) - len(df_D))/len(df_missing)*100):.2f}%)\")\n",
    "print(f\"\\nDefault cases in original: {y.sum()}\")\n",
    "print(f\"Default cases after deletion: {y_D.sum()}\")\n",
    "print(f\"Default cases lost: {y.sum() - y_D.sum()}\")"
   ]
  },
  {
   "cell_type": "markdown",
   "id": "21ba4376",
   "metadata": {},
   "source": [
    "### Linear vs Non-Linear Regression Performance Comparison"
   ]
  },
  {
   "cell_type": "code",
   "execution_count": 47,
   "id": "8c31d12d",
   "metadata": {},
   "outputs": [
    {
     "name": "stdout",
     "output_type": "stream",
     "text": [
      "Linear Regression - F1 Score: 0.4625, Accuracy: 0.6812\n",
      "Non-Linear Regression - F1 Score: 0.4627, Accuracy: 0.6810\n",
      "\n",
      "Better Performer: Non-Linear Regression\n"
     ]
    }
   ],
   "source": [
    "# Extract metrics for comparison\n",
    "linear_f1 = float(comparison_table[comparison_table['Model'] == 'B: Linear Regression']['F1_1'].values[0])\n",
    "nonlinear_f1 = float(comparison_table[comparison_table['Model'] == 'C: Non-Linear Regression']['F1_1'].values[0])\n",
    "linear_acc = float(comparison_table[comparison_table['Model'] == 'B: Linear Regression']['Accuracy'].values[0])\n",
    "nonlinear_acc = float(comparison_table[comparison_table['Model'] == 'C: Non-Linear Regression']['Accuracy'].values[0])\n",
    "\n",
    "print(f\"Linear Regression - F1 Score: {linear_f1:.4f}, Accuracy: {linear_acc:.4f}\")\n",
    "print(f\"Non-Linear Regression - F1 Score: {nonlinear_f1:.4f}, Accuracy: {nonlinear_acc:.4f}\")\n",
    "print(f\"\\nBetter Performer: {'Linear Regression' if linear_f1 > nonlinear_f1 else 'Non-Linear Regression'}\")"
   ]
  },
  {
   "cell_type": "markdown",
   "id": "d2605702",
   "metadata": {},
   "source": [
    "### Why Linear Regression Often Outperforms Non-Linear Methods\n",
    "\n",
    "**1. Nature of Financial Data:**\n",
    "- Credit limits and bill amounts are proportional\n",
    "- Payment history follows consistent trends\n",
    "- Relationships are often linear or near-linear\n",
    "\n",
    "**2. Simplicity Advantage (Occam's Razor):**\n",
    "- Linear models have fewer parameters\n",
    "- Less prone to overfitting\n",
    "- Better generalization to unseen data\n",
    "- More robust with moderate missing data (~7.5%)\n",
    "\n",
    "**3. Model Complexity vs Data Size:**\n",
    "- Missing data: ~1,700 values per column\n",
    "- Linear model: Simple, needs less data\n",
    "- Non-linear model: Complex, may need more data to avoid overfitting\n",
    "\n",
    "**4. Financial Domain Appropriateness:**\n",
    "- Bill amounts correlate linearly with credit limits\n",
    "- Payment patterns are relatively predictable\n",
    "- Linear regression captures these relationships well"
   ]
  },
  {
   "cell_type": "code",
   "execution_count": 48,
   "id": "61ff4ded",
   "metadata": {},
   "outputs": [
    {
     "data": {
      "text/html": [
       "<div>\n",
       "<style scoped>\n",
       "    .dataframe tbody tr th:only-of-type {\n",
       "        vertical-align: middle;\n",
       "    }\n",
       "\n",
       "    .dataframe tbody tr th {\n",
       "        vertical-align: top;\n",
       "    }\n",
       "\n",
       "    .dataframe thead th {\n",
       "        text-align: right;\n",
       "    }\n",
       "</style>\n",
       "<table border=\"1\" class=\"dataframe\">\n",
       "  <thead>\n",
       "    <tr style=\"text-align: right;\">\n",
       "      <th></th>\n",
       "      <th>Model</th>\n",
       "      <th>Accuracy</th>\n",
       "      <th>F1_1</th>\n",
       "      <th>Macro_F1</th>\n",
       "      <th>Support_1</th>\n",
       "    </tr>\n",
       "  </thead>\n",
       "  <tbody>\n",
       "    <tr>\n",
       "      <th>0</th>\n",
       "      <td>A: Median Imputation</td>\n",
       "      <td>0.6812</td>\n",
       "      <td>0.4625</td>\n",
       "      <td>0.6179</td>\n",
       "      <td>1327</td>\n",
       "    </tr>\n",
       "    <tr>\n",
       "      <th>1</th>\n",
       "      <td>B: Linear Regression</td>\n",
       "      <td>0.6812</td>\n",
       "      <td>0.4625</td>\n",
       "      <td>0.6179</td>\n",
       "      <td>1327</td>\n",
       "    </tr>\n",
       "    <tr>\n",
       "      <th>2</th>\n",
       "      <td>C: Non-Linear Regression</td>\n",
       "      <td>0.6810</td>\n",
       "      <td>0.4627</td>\n",
       "      <td>0.6179</td>\n",
       "      <td>1327</td>\n",
       "    </tr>\n",
       "    <tr>\n",
       "      <th>3</th>\n",
       "      <td>D: Listwise Deletion</td>\n",
       "      <td>0.6853</td>\n",
       "      <td>0.4753</td>\n",
       "      <td>0.6253</td>\n",
       "      <td>1177</td>\n",
       "    </tr>\n",
       "  </tbody>\n",
       "</table>\n",
       "</div>"
      ],
      "text/plain": [
       "                      Model Accuracy    F1_1 Macro_F1  Support_1\n",
       "0      A: Median Imputation   0.6812  0.4625   0.6179       1327\n",
       "1      B: Linear Regression   0.6812  0.4625   0.6179       1327\n",
       "2  C: Non-Linear Regression   0.6810  0.4627   0.6179       1327\n",
       "3      D: Listwise Deletion   0.6853  0.4753   0.6253       1177"
      ]
     },
     "execution_count": 48,
     "metadata": {},
     "output_type": "execute_result"
    }
   ],
   "source": [
    "summary = comparison_table[['Model', 'Accuracy', 'F1_1', 'Macro_F1', 'Support_1']].copy()\n",
    "summary"
   ]
  },
  {
   "cell_type": "code",
   "execution_count": null,
   "id": "a45b1113",
   "metadata": {},
   "outputs": [],
   "source": []
  },
  {
   "cell_type": "code",
   "execution_count": null,
   "id": "750276a0",
   "metadata": {},
   "outputs": [],
   "source": []
  }
 ],
 "metadata": {
  "kernelspec": {
   "display_name": "DA_Lab",
   "language": "python",
   "name": "python3"
  },
  "language_info": {
   "codemirror_mode": {
    "name": "ipython",
    "version": 3
   },
   "file_extension": ".py",
   "mimetype": "text/x-python",
   "name": "python",
   "nbconvert_exporter": "python",
   "pygments_lexer": "ipython3",
   "version": "3.13.5"
  }
 },
 "nbformat": 4,
 "nbformat_minor": 5
}
